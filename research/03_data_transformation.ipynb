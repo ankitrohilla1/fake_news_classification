{
 "cells": [
  {
   "cell_type": "code",
   "execution_count": 4,
   "metadata": {},
   "outputs": [
    {
     "name": "stdout",
     "output_type": "stream",
     "text": [
      "Requirement already satisfied: transformers in c:\\users\\ankit.rohilla\\documents\\fake_news_classification\\new_en\\lib\\site-packages (4.33.1)\n",
      "Requirement already satisfied: filelock in c:\\users\\ankit.rohilla\\documents\\fake_news_classification\\new_en\\lib\\site-packages (from transformers) (3.12.3)\n",
      "Requirement already satisfied: huggingface-hub<1.0,>=0.15.1 in c:\\users\\ankit.rohilla\\documents\\fake_news_classification\\new_en\\lib\\site-packages (from transformers) (0.16.4)\n",
      "Requirement already satisfied: numpy>=1.17 in c:\\users\\ankit.rohilla\\documents\\fake_news_classification\\new_en\\lib\\site-packages (from transformers) (1.24.3)\n",
      "Requirement already satisfied: packaging>=20.0 in c:\\users\\ankit.rohilla\\documents\\fake_news_classification\\new_en\\lib\\site-packages (from transformers) (23.1)\n",
      "Requirement already satisfied: pyyaml>=5.1 in c:\\users\\ankit.rohilla\\documents\\fake_news_classification\\new_en\\lib\\site-packages (from transformers) (6.0.1)\n",
      "Requirement already satisfied: regex!=2019.12.17 in c:\\users\\ankit.rohilla\\documents\\fake_news_classification\\new_en\\lib\\site-packages (from transformers) (2023.8.8)\n",
      "Requirement already satisfied: requests in c:\\users\\ankit.rohilla\\documents\\fake_news_classification\\new_en\\lib\\site-packages (from transformers) (2.31.0)\n",
      "Requirement already satisfied: tokenizers!=0.11.3,<0.14,>=0.11.1 in c:\\users\\ankit.rohilla\\documents\\fake_news_classification\\new_en\\lib\\site-packages (from transformers) (0.13.3)\n",
      "Requirement already satisfied: safetensors>=0.3.1 in c:\\users\\ankit.rohilla\\documents\\fake_news_classification\\new_en\\lib\\site-packages (from transformers) (0.3.3)\n",
      "Requirement already satisfied: tqdm>=4.27 in c:\\users\\ankit.rohilla\\documents\\fake_news_classification\\new_en\\lib\\site-packages (from transformers) (4.66.1)\n",
      "Requirement already satisfied: fsspec in c:\\users\\ankit.rohilla\\documents\\fake_news_classification\\new_en\\lib\\site-packages (from huggingface-hub<1.0,>=0.15.1->transformers) (2023.6.0)\n",
      "Requirement already satisfied: typing-extensions>=3.7.4.3 in c:\\users\\ankit.rohilla\\documents\\fake_news_classification\\new_en\\lib\\site-packages (from huggingface-hub<1.0,>=0.15.1->transformers) (4.5.0)\n",
      "Requirement already satisfied: colorama in c:\\users\\ankit.rohilla\\documents\\fake_news_classification\\new_en\\lib\\site-packages (from tqdm>=4.27->transformers) (0.4.6)\n",
      "Requirement already satisfied: charset-normalizer<4,>=2 in c:\\users\\ankit.rohilla\\documents\\fake_news_classification\\new_en\\lib\\site-packages (from requests->transformers) (3.2.0)\n",
      "Requirement already satisfied: idna<4,>=2.5 in c:\\users\\ankit.rohilla\\documents\\fake_news_classification\\new_en\\lib\\site-packages (from requests->transformers) (3.4)\n",
      "Requirement already satisfied: urllib3<3,>=1.21.1 in c:\\users\\ankit.rohilla\\documents\\fake_news_classification\\new_en\\lib\\site-packages (from requests->transformers) (1.26.16)\n",
      "Requirement already satisfied: certifi>=2017.4.17 in c:\\users\\ankit.rohilla\\documents\\fake_news_classification\\new_en\\lib\\site-packages (from requests->transformers) (2023.7.22)\n"
     ]
    },
    {
     "name": "stderr",
     "output_type": "stream",
     "text": [
      "\n",
      "[notice] A new release of pip available: 22.3.1 -> 23.2.1\n",
      "[notice] To update, run: python.exe -m pip install --upgrade pip\n"
     ]
    }
   ],
   "source": [
    "import os"
   ]
  },
  {
   "cell_type": "code",
   "execution_count": 5,
   "metadata": {},
   "outputs": [
    {
     "data": {
      "text/plain": [
       "'c:\\\\Users\\\\ankit.rohilla\\\\Documents\\\\fake_news_classification\\\\research'"
      ]
     },
     "execution_count": 5,
     "metadata": {},
     "output_type": "execute_result"
    }
   ],
   "source": [
    "%pwd"
   ]
  },
  {
   "cell_type": "code",
   "execution_count": 6,
   "metadata": {},
   "outputs": [],
   "source": [
    "os.chdir(\"../\")"
   ]
  },
  {
   "cell_type": "code",
   "execution_count": 7,
   "metadata": {},
   "outputs": [
    {
     "data": {
      "text/plain": [
       "'c:\\\\Users\\\\ankit.rohilla\\\\Documents\\\\fake_news_classification'"
      ]
     },
     "execution_count": 7,
     "metadata": {},
     "output_type": "execute_result"
    }
   ],
   "source": [
    "%pwd"
   ]
  },
  {
   "cell_type": "code",
   "execution_count": 8,
   "metadata": {},
   "outputs": [],
   "source": [
    "from dataclasses import dataclass\n",
    "from pathlib import Path\n",
    "\n",
    "\n",
    "@dataclass(frozen=True)\n",
    "class DataTransformationConfig:\n",
    "    root_dir: Path\n",
    "    data_path: Path\n",
    "    tokenizer_name: Path\n"
   ]
  },
  {
   "cell_type": "code",
   "execution_count": 9,
   "metadata": {},
   "outputs": [
    {
     "name": "stderr",
     "output_type": "stream",
     "text": [
      "c:\\Users\\ankit.rohilla\\Documents\\fake_news_classification\\new_en\\Lib\\site-packages\\tqdm\\auto.py:21: TqdmWarning: IProgress not found. Please update jupyter and ipywidgets. See https://ipywidgets.readthedocs.io/en/stable/user_install.html\n",
      "  from .autonotebook import tqdm as notebook_tqdm\n"
     ]
    }
   ],
   "source": [
    "from text_classifier.constants import *\n",
    "from text_classifier.utils.common import read_yaml, create_directories\n",
    "import os\n",
    "import pandas as pd\n",
    "import torch\n",
    "from tensorflow.python.ops.numpy_ops import np_utils\n",
    "from transformers import BertModel, BertTokenizer\n",
    "import tensorflow as tf"
   ]
  },
  {
   "cell_type": "code",
   "execution_count": 10,
   "metadata": {},
   "outputs": [],
   "source": [
    "class ConfigurationManager:\n",
    "    def __init__(\n",
    "        self,\n",
    "        config_filepath = CONFIG_FILE_PATH,\n",
    "        params_filepath = PARAMS_FILE_PATH):\n",
    "\n",
    "        self.config = read_yaml(config_filepath)\n",
    "        self.params = read_yaml(params_filepath)\n",
    "\n",
    "        create_directories([self.config.artifacts_root])\n",
    "\n",
    "\n",
    "    \n",
    "    def get_data_transformation_config(self) -> DataTransformationConfig:\n",
    "        config = self.config.data_transformation\n",
    "\n",
    "        create_directories([config.root_dir])\n",
    "\n",
    "        data_transformation_config = DataTransformationConfig(\n",
    "            root_dir=config.root_dir,\n",
    "            data_path=config.data_path,\n",
    "            tokenizer_name = config.tokenizer_name\n",
    "        )\n",
    "\n",
    "        return data_transformation_config\n"
   ]
  },
  {
   "cell_type": "code",
   "execution_count": 11,
   "metadata": {},
   "outputs": [],
   "source": [
    "import os\n",
    "from text_classifier.logging import logger\n",
    "from transformers import BertTokenizer\n",
    "from sklearn.model_selection import train_test_split\n",
    "import pickle"
   ]
  },
  {
   "cell_type": "code",
   "execution_count": 12,
   "metadata": {},
   "outputs": [],
   "source": [
    "class DataTransformation:\n",
    "    def __init__(self, config: DataTransformationConfig):\n",
    "        self.config = config\n",
    "        self.tokenizer = BertTokenizer.from_pretrained(config.tokenizer_name)\n",
    "\n",
    "    def transform_data(self):\n",
    "        fake_df = pd.read_csv(os.path.join(self.config.data_path, 'Fake.csv'), encoding='UTF-8')\n",
    "        true_df = pd.read_csv(os.path.join(self.config.data_path, 'True.csv'), encoding='UTF-8')\n",
    "        fake_df['label'] = 0\n",
    "        true_df['label'] = 1\n",
    "        df = pd.concat([fake_df, true_df]).reset_index()\n",
    "        df.drop_duplicates(inplace=True)\n",
    "        df['text'] = df['text'] + \" \" + df['title']\n",
    "        df.drop(columns=['title', 'subject', 'date'])\n",
    "        df = df.sample(frac=1).reset_index(drop=True)\n",
    "        X_train, X_test, Y_train, Y_test = train_test_split(df['text'], df['label'], stratify = df['label'], test_size = 0.25, random_state =42)\n",
    "        return (X_train, X_test, Y_train, Y_test)\n",
    "    \n",
    "    def convert_examples_to_features(self, X):  \n",
    "        X = self.tokenizer(\n",
    "            text = list(X),\n",
    "            add_special_tokens = True,\n",
    "            max_length = 120,\n",
    "            truncation = True,\n",
    "            padding = 'max_length',\n",
    "            return_tensors = 'tf',\n",
    "            return_token_type_ids = False,\n",
    "            return_attention_mask = True,\n",
    "            verbose = True\n",
    "            )\n",
    "        return X\n",
    "\n",
    "    def convert(self):\n",
    "        X_train, X_test, Y_train, Y_test = self.transform_data()\n",
    "        train_encoding = self.convert_examples_to_features(X_train)\n",
    "        test_encoding = self.convert_examples_to_features(X_test)\n",
    "        train_encodings = {\n",
    "            'X_train': train_encoding,\n",
    "            'y_train': Y_train\n",
    "        }\n",
    "        test_encodings = {\n",
    "            'X_test': test_encoding,\n",
    "            'y_test': Y_test\n",
    "        }\n",
    "\n",
    "        # Save the dictionary to a file\n",
    "        with open(os.path.join(self.config.root_dir,\"train_encodings.pkl\"), 'wb') as f:\n",
    "            pickle.dump(train_encodings, f)\n",
    "        with open(os.path.join(self.config.root_dir,\"test_encodings.pkl\"), 'wb') as f:\n",
    "            pickle.dump(test_encodings, f)\n"
   ]
  },
  {
   "cell_type": "code",
   "execution_count": 13,
   "metadata": {},
   "outputs": [
    {
     "name": "stdout",
     "output_type": "stream",
     "text": [
      "[2023-09-06 22:00:57,417: INFO: common: yaml file: config\\config.yaml loaded successfully]\n",
      "[2023-09-06 22:00:57,417: INFO: common: yaml file: params.yaml loaded successfully]\n",
      "[2023-09-06 22:00:57,425: INFO: common: created directory at: artifacts]\n",
      "[2023-09-06 22:00:57,425: INFO: common: created directory at: artifacts/data_transformation]\n"
     ]
    }
   ],
   "source": [
    "try:\n",
    "    config = ConfigurationManager()\n",
    "    data_transformation_config = config.get_data_transformation_config()\n",
    "    data_transformation = DataTransformation(config=data_transformation_config)\n",
    "    data_transformation.convert()\n",
    "except Exception as e:\n",
    "    raise e"
   ]
  }
 ],
 "metadata": {
  "kernelspec": {
   "display_name": "textS",
   "language": "python",
   "name": "python3"
  },
  "language_info": {
   "codemirror_mode": {
    "name": "ipython",
    "version": 3
   },
   "file_extension": ".py",
   "mimetype": "text/x-python",
   "name": "python",
   "nbconvert_exporter": "python",
   "pygments_lexer": "ipython3",
   "version": "3.11.1"
  },
  "orig_nbformat": 4
 },
 "nbformat": 4,
 "nbformat_minor": 2
}
